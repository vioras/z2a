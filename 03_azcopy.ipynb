{
 "cells": [
  {
   "cell_type": "markdown",
   "id": "cc06c286-e642-4cf3-bab6-ca1870845a85",
   "metadata": {},
   "source": [
    "# AzCopy"
   ]
  },
  {
   "cell_type": "markdown",
   "id": "26e4e392-8441-4669-82c9-93ddbc832085",
   "metadata": {},
   "source": [
    "* Azure CLI\n",
    "  - AzCopy\n",
    "     - [GitHub - Azure/azure-storage-azcopy: The new Azure Storage data transfer utility - AzCopy v10](https://github.com/Azure/azure-storage-azcopy)\n",
    "     - [AzCopy v10 を使用して Azure Storage にデータをコピーまたは移動する | Microsoft Learn](https://learn.microsoft.com/ja-jp/azure/storage/common/storage-use-azcopy-v10)\n",
    "     - [Download blobs from Azure Blob Storage by using AzCopy v10 | Microsoft Learn](https://learn.microsoft.com/en-us/azure/storage/common/storage-use-azcopy-blobs-download?toc=%2Fazure%2Fstorage%2Fblobs%2Ftoc.json&bc=%2Fazure%2Fstorage%2Fblobs%2Fbreadcrumb%2Ftoc.json)\n",
    "  - Azure CLI Storage Extension (preview)\n",
    "     - [GitHub - Azure/azure-cli-extensions: Public Repository for Extensions of Azure CLI.](https://github.com/Azure/azure-cli-extensions/tree/main)\n",
    "         - [azure-cli-extensions/src/storage-preview at main · Azure/azure-cli-extensions · GitHub](https://github.com/Azure/azure-cli-extensions/tree/main/src/storage-preview"
   ]
  },
  {
   "cell_type": "code",
   "execution_count": 1,
   "id": "c4651081-7435-4e2f-8cc0-8e08fa9c7939",
   "metadata": {},
   "outputs": [
    {
     "data": {
      "text/markdown": [
       "`azcopy`は、Azure Storageへの大量のデータ転送を高速に行うためのコマンドラインツールです。`azcopy`を使用すると、Azure Storageとの間でデータをコピーしたり、移動したりすることができます。このツールは、高いパフォーマンスと信頼性を提供し、大規模なデータ転送を効率的に行うことができます。\n",
       "\n",
       "`azcopy`は以下の主な機能を提供します：\n",
       "\n",
       "- ローカルファイルシステムとAzure Blob Storage、Azure Files、Azure Table Storageの間のデータ転送\n",
       "- Azure Storage Service間でのデータのコピー\n",
       "- データ転送の並列処理と再試行機能\n",
       "- データ転送の進行状況の表示\n",
       "\n",
       "基本的なコマンドの形式は以下のようになります：\n",
       "\n",
       "```bash\n",
       "azcopy [command] [arguments] [flags]\n",
       "```\n",
       "\n",
       "たとえば、ローカルファイルシステムからAzure Blob Storageにファイルを転送するためのコマンドは以下のようになります：\n",
       "\n",
       "```bash\n",
       "azcopy cp \"/path/to/local/file\" \"https://[account].blob.core.windows.net/[container]/[path/to/blob]\"\n",
       "```\n",
       "\n",
       "このコマンドは、ローカルファイルシステムから指定したAzure Blob Storageのコンテナにファイルをコピーします。\n",
       "\n",
       "なお、`azcopy`を使用する前に、Azure CLIをインストールし、`az login`コマンドを使用してAzureにログインする必要があります。また、データを転送するAzure Storageのアクセス許可も必要です。"
      ],
      "text/plain": [
       "<IPython.core.display.Markdown object>"
      ]
     },
     "execution_count": 1,
     "metadata": {
      "text/markdown": {
       "jupyter_ai": {
        "custom_chain_id": "vioras"
       }
      }
     },
     "output_type": "execute_result"
    }
   ],
   "source": [
    "%%ai vioras\n",
    "Azure CUIのazcopyコマンドについて"
   ]
  },
  {
   "cell_type": "code",
   "execution_count": 2,
   "id": "08626546-4f68-49d0-ad6d-9b516ec0d85f",
   "metadata": {},
   "outputs": [
    {
     "data": {
      "text/markdown": [
       "いえ、`azcopy`と`az storage`はそれぞれ異なる目的と機能を持つCLIツールで、一方が他方を完全に置き換えるものではありません。\n",
       "\n",
       "- `azcopy`: これは一種のデータ移動ツールで、大量のデータをAzure Storageとの間で高速かつ効率的に転送することが目的です。`azcopy`は特に大量のデータを扱う際に優れています。また、`azcopy`は単独のツールであり、Azure CLIの一部ではありません。\n",
       "\n",
       "- `az storage`: これはAzure CLIの一部であり、Azure Storageサービスと対話するための一連のコマンドを提供しています。これには、ストレージアカウントの作成、BLOBのアップロードやダウンロード、キューメッセージの操作などが含まれます。`az storage`コマンドはより一般的なストレージ操作を扱いますが、`azcopy`ほどの高速データ転送機能は提供していません。\n",
       "\n",
       "したがって、どちらのツールを使用するかは、特定のタスクや要件によります。大量のデータを高速に転送する必要がある場合は`azcopy`、より一般的なストレージ操作を行う場合は`az storage`コマンドを使用します。"
      ],
      "text/plain": [
       "<IPython.core.display.Markdown object>"
      ]
     },
     "execution_count": 2,
     "metadata": {
      "text/markdown": {
       "jupyter_ai": {
        "custom_chain_id": "vioras"
       }
      }
     },
     "output_type": "execute_result"
    }
   ],
   "source": [
    "%%ai vioras\n",
    "azcopyは\"az storage\"に置き換わるのですか？"
   ]
  },
  {
   "cell_type": "markdown",
   "id": "7b0e00a5-e680-44a5-acc7-d7ca5e90752d",
   "metadata": {},
   "source": [
    "## 認証 (再認証する必要あり)\n",
    "\n",
    "<div class=\"alert alert-success\">\n",
    "    \n",
    "2023年9月現在、`azcopy` は標準とは異なるクレデンシャルキャッシュを参照しているため、再認証する必要があります。\n",
    "\n",
    "</div>"
   ]
  },
  {
   "cell_type": "code",
   "execution_count": 1,
   "id": "66e2c4ba-2edc-4535-b144-48e5f1ee1b43",
   "metadata": {},
   "outputs": [
    {
     "name": "stdout",
     "output_type": "stream",
     "text": [
      "INFO: You are currently not logged in. Please login using 'azcopy login'\n"
     ]
    }
   ],
   "source": [
    "!azcopy login status"
   ]
  },
  {
   "cell_type": "code",
   "execution_count": 2,
   "id": "dca1b790-59e0-4355-9698-866ecdf0bb46",
   "metadata": {},
   "outputs": [
    {
     "name": "stdout",
     "output_type": "stream",
     "text": [
      "INFO: 'azcopy login' command will be deprecated starting release 10.22. Use auto-login instead. Visit https://learn.microsoft.com/en-us/azure/storage/common/storage-use-azcopy-authorize-azure-active-directory#authorize-without-a-secret-store  to know more.\n",
      "To sign in, use a web browser to open the page https://microsoft.com/devicelogin and enter the code IBCUFZB44 to authenticate.\n",
      "\n",
      "INFO: Logging in under the \"Common\" tenant. This will log the account in under its home tenant.\n",
      "INFO: If you plan to use AzCopy with a B2B account (where the account's home tenant is separate from the tenant of the target storage account), please sign in under the target tenant with --tenant-id\n",
      "INFO: Login succeeded.\n"
     ]
    }
   ],
   "source": [
    "!azcopy login"
   ]
  },
  {
   "cell_type": "code",
   "execution_count": 9,
   "id": "f071640a-7b75-4256-994d-ccfa1eee33cd",
   "metadata": {},
   "outputs": [
    {
     "name": "stdout",
     "output_type": "stream",
     "text": [
      "INFO: You have successfully refreshed your token. Your login session is still active\n"
     ]
    }
   ],
   "source": [
    "!azcopy login status"
   ]
  },
  {
   "cell_type": "code",
   "execution_count": 10,
   "id": "753dd934-2fc1-4ca2-9e0b-d6dcd407026a",
   "metadata": {},
   "outputs": [
    {
     "name": "stdout",
     "output_type": "stream",
     "text": [
      "INFO: Autologin not specified.\n",
      "INFO: Authenticating to source using Azure AD\n",
      "INFO: 01_intro.ipynb;  Content Length: 2.10 KiB\n",
      "INFO: 02_openai.ipynb;  Content Length: 9.98 KiB\n",
      "INFO: 03_chatgpt.ipynb;  Content Length: 1.50 KiB\n",
      "INFO: 04_assignment.ipynb;  Content Length: 15.70 KiB\n",
      "INFO: intro_add.md;  Content Length: 330.00 B\n",
      "INFO: intro_add_4.md;  Content Length: 4.65 KiB\n",
      "INFO: intro_add_5.md;  Content Length: 1.21 KiB\n",
      "INFO: intro_add_6.md;  Content Length: 572.00 B\n",
      "INFO: .ipynb_checkpoints/01_intro-checkpoint.ipynb;  Content Length: 1.74 KiB\n",
      "INFO: .ipynb_checkpoints/02_openai-checkpoint.ipynb;  Content Length: 21.16 MiB\n",
      "INFO: .ipynb_checkpoints/03_chatgpt-checkpoint.ipynb;  Content Length: 15.28 KiB\n",
      "INFO: images/20230411.pptx;  Content Length: 16.14 MiB\n",
      "INFO: images/fig-01.png;  Content Length: 991.62 KiB\n",
      "INFO: images/fig-02.png;  Content Length: 597.31 KiB\n",
      "INFO: images/fig-03.png;  Content Length: 53.36 KiB\n",
      "INFO: images/fig-04.png;  Content Length: 75.16 KiB\n",
      "INFO: images/fig-05.png;  Content Length: 67.42 KiB\n",
      "INFO: images/fig-06.png;  Content Length: 168.48 KiB\n",
      "INFO: images/fig-07.png;  Content Length: 77.82 KiB\n",
      "INFO: images/fig-08.png;  Content Length: 60.65 KiB\n",
      "INFO: images/fig-09.png;  Content Length: 65.40 KiB\n",
      "INFO: images/fig-10.png;  Content Length: 73.01 KiB\n",
      "INFO: images/fig-11.png;  Content Length: 83.22 KiB\n",
      "INFO: images/fig-12.png;  Content Length: 222.04 KiB\n",
      "INFO: images/fig-13.png;  Content Length: 148.36 KiB\n",
      "INFO: images/fig-14.png;  Content Length: 158.27 KiB\n",
      "INFO: images/fig-15.png;  Content Length: 149.57 KiB\n"
     ]
    }
   ],
   "source": [
    "!azcopy list \"https://ecsosaka416528d.blob.core.windows.net/textbook-2023/chapters/01\""
   ]
  },
  {
   "cell_type": "code",
   "execution_count": 11,
   "id": "6ba6fb19-9614-4c79-8516-e927f44a877b",
   "metadata": {},
   "outputs": [
    {
     "name": "stdout",
     "output_type": "stream",
     "text": [
      "INFO: Autologin not specified.\n",
      "INFO: Authenticating to source using Azure AD\n",
      "INFO: Any empty folders will not be processed, because source and/or destination doesn't have full folder support\n",
      "\n",
      "Job 510ab820-de2b-ac42-5e1a-37b6d02eb2e0 has started\n",
      "Log file is located at: /home/jovyan/.azcopy/510ab820-de2b-ac42-5e1a-37b6d02eb2e0.log\n",
      "\n",
      "100.0 %, 0 Done, 0 Failed, 0 Pending, 0 Total, 2-sec Throughput (Mb/s): 0\n",
      "\n",
      "Job 510ab820-de2b-ac42-5e1a-37b6d02eb2e0 Summary\n",
      "Files Scanned at Source: 190\n",
      "Files Scanned at Destination: 190\n",
      "Elapsed Time (Minutes): 0.0333\n",
      "Number of Copy Transfers for Files: 0\n",
      "Number of Copy Transfers for Folder Properties: 0 \n",
      "Total Number Of Copy Transfers: 0\n",
      "Number of Copy Transfers Completed: 0\n",
      "Number of Copy Transfers Failed: 0\n",
      "Number of Deletions at Destination: 0\n",
      "Total Number of Bytes Transferred: 0\n",
      "Total Number of Bytes Enumerated: 0\n",
      "Final Job Status: Completed\n",
      "\n"
     ]
    }
   ],
   "source": [
    "!azcopy sync \\\n",
    "    \"https://ecsosaka416528d.blob.core.windows.net/textbook-2023/chapters\" \\\n",
    "    \"/home/jovyan/chapters\" --recursive=true"
   ]
  },
  {
   "cell_type": "markdown",
   "id": "73ea43dd-408b-4dcd-b338-cdea91dde3ea",
   "metadata": {},
   "source": [
    "## Errata\n",
    "\n",
    "* [Auto-login not persisting token when AZCOPY_AUTO_LOGIN_TYPE=DEVICE · Issue #2361 · Azure/azure-storage-azcopy](https://github.com/Azure/azure-storage-azcopy/issues/2361)"
   ]
  },
  {
   "cell_type": "code",
   "execution_count": null,
   "id": "d1e71e8d-d366-4645-bb38-9c38221671f6",
   "metadata": {},
   "outputs": [],
   "source": []
  }
 ],
 "metadata": {
  "kernelspec": {
   "display_name": "Python 3 (ipykernel)",
   "language": "python",
   "name": "python3"
  },
  "language_info": {
   "codemirror_mode": {
    "name": "ipython",
    "version": 3
   },
   "file_extension": ".py",
   "mimetype": "text/x-python",
   "name": "python",
   "nbconvert_exporter": "python",
   "pygments_lexer": "ipython3",
   "version": "3.11.5"
  }
 },
 "nbformat": 4,
 "nbformat_minor": 5
}
