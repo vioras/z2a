{
 "cells": [
  {
   "cell_type": "markdown",
   "id": "fafdc9ed-d3a0-4411-9cbd-728f0aec2e07",
   "metadata": {},
   "source": [
    "# Azure directory structure\n",
    "\n",
    "Azureの管理データの構造を辿りながら、Azure Storageを利用するために必要となる概念を紹介します。"
   ]
  },
  {
   "cell_type": "markdown",
   "id": "457823e4-d756-40d3-9518-e9df737163cf",
   "metadata": {},
   "source": [
    "```{note}\n",
    "`%%ai vioras`はIPythonのマジックコマンドです (`%%`に注意)。\n",
    "セル内の次行以降の文字列をプロンプトとしてChatGPTに送信し、レスポンスを表示します。\n",
    "VIORASでは、ノートブックを開く際に\n",
    "[jupyterlab/jupyter-ai: A generative AI extension for JupyterLab](https://github.com/jupyterlab/jupyter-ai)\n",
    "のマジックコマンド機能拡張 `jupyter_ai_magics` をロードしています。\n",
    "さらに、VIORASが提供しているChatGPTサービス (Azure OpenAIのgpt-4-32kモデル) に接続する設定を行っています。\n",
    "```"
   ]
  },
  {
   "cell_type": "code",
   "execution_count": 75,
   "id": "253f8a30-62c9-4658-bd06-a759c6e04078",
   "metadata": {},
   "outputs": [
    {
     "data": {
      "text/markdown": [
       "Azureは、マイクロソフトが提供するクラウドコンピューティングプラットフォームおよびサービスの一つです。Azureは、ビジネスがデータセンターのインフラストラクチャの構築と管理に費やす時間と労力を大幅に削減することを可能にします。\n",
       "\n",
       "Azureは、さまざまな種類のクラウドサービスを提供します。これには次のようなものがあります:\n",
       "\n",
       "1. **Compute** - 仮想マシン（VM）、コンテナ、サーバーレスコンピューティングなどのカスタムアプリケーションまたはサービスの実行に使用されます。\n",
       "\n",
       "2. **Storage** - データとアプリケーションの保存に使用されます。\n",
       "\n",
       "3. **Database** - リレーショナルデータベース (SQL) や NoSQL データベースなどのデータベースソリューション。\n",
       "\n",
       "4. **Networking** - 仮想ネットワーク、専用接続、ロードバランサーなどのネットワーキング機能。\n",
       "\n",
       "5. **AI + Machine Learning** - データサイエンティストと開発者がAIと機械学習を使用してアプリケーションを構築するためのツールとサービス。\n",
       "\n",
       "理論的には、Azureを使用して任意の種類のアプリケーションを構築し、どのような規模でも実行することが可能で、Azureはハイブリッドクラウド環境をサポートしているため、一部のリソースはオンプレミス、一部はクラウドで運用することが可能です。\n",
       "\n",
       "さらに、Azureは完全なマネージドサービスとして提供されるため、ユーザーは物理的なハードウェアの管理やデータセンターのメンテナンスについて心配する必要がありません。これにより、ユーザーはより重要なビジネス課題に集中することができます。"
      ],
      "text/plain": [
       "<IPython.core.display.Markdown object>"
      ]
     },
     "execution_count": 75,
     "metadata": {
      "text/markdown": {
       "jupyter_ai": {
        "custom_chain_id": "vioras"
       }
      }
     },
     "output_type": "execute_result"
    }
   ],
   "source": [
    "%%ai vioras\n",
    "Azureについて"
   ]
  },
  {
   "cell_type": "code",
   "execution_count": 81,
   "id": "d69770a1-c451-4560-8b0e-077d804b9c18",
   "metadata": {},
   "outputs": [
    {
     "data": {
      "text/markdown": [
       "マネージドサービスとは、ITインフラストラクチャやシステムの一部または全部を、サービスとして提供するものを指します。これには、ネットワーキング、サーバー、アプリケーション、データストレージなどの管理とメンテナンスが含まれます。 \n",
       "\n",
       "マネージドサービスの提供者（MSP）は、組織が自身のIT運用を効率的に行い、そのビジネスに集中できるように支援します。具体的には、以下のような活動を担当することがあります：\n",
       "\n",
       "- **システム管理と運用**: MSPは、システムの日々の管理と運用を担当します。これには、システムの監視、パフォーマンス管理、セキュリティ管理、バックアップとリカバリなどが含まれます。\n",
       "\n",
       "- **インフラストラクチャの設計と導入**: MSPは、組織のITインフラストラクチャの設計と導入を支援します。これには、ネットワークの設計、サーバーの設定、ストレージシステムの導入などが含まれます。\n",
       "\n",
       "- **ソフトウェアとアプリケーションの管理**: MSPは、組織が使用するソフトウェアとアプリケーションのインストール、アップデート、パッチ適用、ライセンス管理などを行います。\n",
       "\n",
       "- **テクニカルサポート**: MSPは、IT問題に対するテクニカルサポートを提供します。これには、問題の診断と解決、ヘルプデスクサポートなどが含まれます。\n",
       "\n",
       "Azureのようなクラウドプロバイダーは、マネージドサービスの形式で多くのサービスを提供します。例えば、Azure SQL Databaseは、管理やメンテナンスをAzureが担当するマネージドなリレーショナルデータベースサービスです。これにより、組織はデータベースの運用管理にかかる時間と労力を大幅に削減できます。"
      ],
      "text/plain": [
       "<IPython.core.display.Markdown object>"
      ]
     },
     "execution_count": 81,
     "metadata": {
      "text/markdown": {
       "jupyter_ai": {
        "custom_chain_id": "vioras"
       }
      }
     },
     "output_type": "execute_result"
    }
   ],
   "source": [
    "%%ai vioras\n",
    "マネージドサービスとは？"
   ]
  },
  {
   "cell_type": "markdown",
   "id": "d9d1ef06-0a73-4b8f-9955-7c03e3d0a688",
   "metadata": {},
   "source": [
    "```{note}\n",
    "以下、Azure CUI `az` コマンドを使って、Azureの管理データのディレクトリ構造を解説しますが、\n",
    "途中で利用しているストレージ拡張を自動的に導入するために、あらかじめ次の設定をしておきます。\n",
    "なお、行頭の`!`はシェルコマンドの実行です。\n",
    "```"
   ]
  },
  {
   "cell_type": "code",
   "execution_count": 1,
   "id": "1a6644dc-d5cb-4b21-8ca0-bd97be7b153a",
   "metadata": {},
   "outputs": [
    {
     "name": "stdout",
     "output_type": "stream",
     "text": [
      "\u001b[36mCommand group 'config' is experimental and under development. Reference and support levels: https://aka.ms/CLI_refstatus\u001b[0m\n"
     ]
    }
   ],
   "source": [
    "!az config set extension.use_dynamic_install=yes_without_prompt"
   ]
  },
  {
   "cell_type": "markdown",
   "id": "99dd1261-99df-47dc-bed3-84901ac8f6c2",
   "metadata": {},
   "source": [
    "## テナントとサブスクリプション"
   ]
  },
  {
   "cell_type": "code",
   "execution_count": 76,
   "id": "3bb62dff-1857-4502-a5fa-21f0627ac9a0",
   "metadata": {},
   "outputs": [
    {
     "data": {
      "text/markdown": [
       "Azureにおける「テナント」と「アカウント」は、クラウドリソースへのアクセスを管理するための重要な概念です。\n",
       "\n",
       "**テナント (Tenant):**\n",
       "Azureテナントは、Azure Active Directory (Azure AD) のインスタンスを指します。これは、組織が所有する、または組織固有のリソースを制御するための信頼性のあるドメインを表します。テナントは、ユーザー、グループ、およびアプリケーションのディレクトリの役割を果たし、各ユーザーまたはサービスが何にアクセスできるかを制御します。組織は1つ以上のテナントを持つことができ、各テナントは完全に独立しています。\n",
       "\n",
       "**アカウント (Account):**\n",
       "Azureアカウントは、Azureサブスクリプションを作成するために使用するMicrosoftのアカウントを指します。アカウントは個々のユーザーやサービスに関連付けられ、これによってAzureリソースを購入し、それらを管理することができます。アカウントは、メールアドレス、パスワード、および連絡先情報で構成されます。\n",
       "\n",
       "これらの概念は、Azure環境のセキュリティと組織の管理の観点から重要です。テナントとアカウントを理解することで、リソースへのアクセスを適切に制御し、クラウド環境を安全に保つことができます。"
      ],
      "text/plain": [
       "<IPython.core.display.Markdown object>"
      ]
     },
     "execution_count": 76,
     "metadata": {
      "text/markdown": {
       "jupyter_ai": {
        "custom_chain_id": "vioras"
       }
      }
     },
     "output_type": "execute_result"
    }
   ],
   "source": [
    "%%ai vioras\n",
    "Azureのテナントとアカウントについて"
   ]
  },
  {
   "cell_type": "code",
   "execution_count": 77,
   "id": "53fa6bf3-b6b6-47f2-8fae-451733195334",
   "metadata": {},
   "outputs": [
    {
     "data": {
      "text/markdown": [
       "Azureのサブスクリプションは、利用可能なAzure製品とサービスへのアクセスを提供し、それらの使用料を課金するための契約です。サブスクリプションを通じて、ユーザーはAzureリソースを作成、管理、および消費することができます。\n",
       "\n",
       "Azureサブスクリプションは、組織によっては複数存在し得て、それぞれが独自の利用料と制約を持つことができます。各サブスクリプションは、特定の組織、部門、プロジェクト、または個々のユーザーに関連付けられることが一般的です。\n",
       "\n",
       "サブスクリプションには以下のような特性があります：\n",
       "\n",
       "- **アクセス管理とポリシー**：Azureサブスクリプションは、リソースへのアクセスを管理し、特定のポリシーと制約を適用するための主要なスコープを提供します。これにより、組織は誰がどのリソースを利用できるかを詳細に制御することができます。\n",
       "\n",
       "- **課金と支払い**：各サブスクリプションは独自の課金と支払いの詳細を持ちます。これは、異なる部門やプロジェクトの利用状況を個別に追跡し、コストを管理するのに役立ちます。\n",
       "\n",
       "- **利用制限とクォータ**：Azureは、各サブスクリプションに対して特定のリソース利用制限またはクォータを設定します。これは、リソースの使用を制限し、予期しない課金を防ぐのに役立ちます。必要に応じてこれらの制限を増やすことも可能です。\n",
       "\n",
       "サブスクリプションの管理は、Azureポータル、Azure PowerShell、Azure CLIを通じて、またはAzure Management APIsを使用してプログラム的に行うことができます。"
      ],
      "text/plain": [
       "<IPython.core.display.Markdown object>"
      ]
     },
     "execution_count": 77,
     "metadata": {
      "text/markdown": {
       "jupyter_ai": {
        "custom_chain_id": "vioras"
       }
      }
     },
     "output_type": "execute_result"
    }
   ],
   "source": [
    "%%ai vioras\n",
    "Azureのサブスクリプションについて"
   ]
  },
  {
   "cell_type": "markdown",
   "id": "9c4df6a8-ddaf-4c62-932e-89c95dd7005f",
   "metadata": {},
   "source": [
    "```{note}\n",
    "`az`コマンドを用いると、現セッションの認証情報を表示できます。\n",
    "\n",
    "* テナント: `OUMail (Osaka University)`\n",
    "  - アカウント: e.g. `u416528d@ecs.osaka-u.ac.jp`\n",
    "* サブスクリプション: `EDU-2022`\n",
    "\n",
    "VIORASでは、ログイン時にAzureADのOAuth2認証を行っています。\n",
    "`az`コマンドやPython APIは、アクセストークンを共有しているため再認証は必要ありません。\n",
    "最後に紹介する`AzCopy`は、独自のアクセストークンを参照するため、再度、認証を行う必要があります。\n",
    "``````"
   ]
  },
  {
   "cell_type": "code",
   "execution_count": 5,
   "id": "62929628-a3ac-42c7-a2aa-88f9de5170ed",
   "metadata": {},
   "outputs": [
    {
     "name": "stdout",
     "output_type": "stream",
     "text": [
      "{\n",
      "  \"environmentName\": \"AzureCloud\",\n",
      "  \"homeTenantId\": \"00bc734c-1046-44ff-bb99-f4b01806d062\",\n",
      "  \"id\": \"a25ebad8-cf41-4969-ad5e-c9571a276106\",\n",
      "  \"isDefault\": true,\n",
      "  \"managedByTenants\": [],\n",
      "  \"name\": \"EDU-2022\",\n",
      "  \"state\": \"Enabled\",\n",
      "  \"tenantId\": \"00bc734c-1046-44ff-bb99-f4b01806d062\",\n",
      "  \"user\": {\n",
      "    \"name\": \"u416528d@ecs.osaka-u.ac.jp\",\n",
      "    \"type\": \"user\"\n",
      "  }\n",
      "}\n"
     ]
    }
   ],
   "source": [
    "!az account show "
   ]
  },
  {
   "cell_type": "code",
   "execution_count": 30,
   "id": "5a3f6734-7bc0-4664-bf06-eaa14b849f64",
   "metadata": {},
   "outputs": [
    {
     "name": "stdout",
     "output_type": "stream",
     "text": [
      "\"a25ebad8-cf41-4969-ad5e-c9571a276106\"\n"
     ]
    }
   ],
   "source": [
    "!az account show --query \"id\""
   ]
  },
  {
   "cell_type": "code",
   "execution_count": 2,
   "id": "d0c0bf17-79b2-4108-8105-95d321314db1",
   "metadata": {},
   "outputs": [
    {
     "name": "stdout",
     "output_type": "stream",
     "text": [
      "\"EDU-2022\"\n"
     ]
    }
   ],
   "source": [
    "!az account show --query \"name\""
   ]
  },
  {
   "cell_type": "code",
   "execution_count": 1,
   "id": "83ad8c99-dae2-4425-b831-9434349613d3",
   "metadata": {},
   "outputs": [
    {
     "name": "stdout",
     "output_type": "stream",
     "text": [
      "\"u416528d@ecs.osaka-u.ac.jp\"\n"
     ]
    }
   ],
   "source": [
    "!az account show --query \"user.name\""
   ]
  },
  {
   "cell_type": "markdown",
   "id": "eb99a7bf-7f26-4f49-af3e-cae075852cb7",
   "metadata": {},
   "source": [
    "```{note}\n",
    "もし、上のようなアカウント情報が表示されない場合は、\n",
    "`az login --use-device-code`\n",
    "を実行して再認証して下さい。\n",
    "\n",
    "コマンドを実行すると\n",
    "`To sign in, use a web browser to open the page https://microsoft.com/devicelogin and enter the code XXXXXXXXX to authenticate.`\n",
    "のようにURLとコードが表示されます。\n",
    "URLをクリックするとブラウザがコードの入力画面に遷移するので、\n",
    "9桁のコードをコピー・ペーストしてください。\n",
    "``````"
   ]
  },
  {
   "cell_type": "code",
   "execution_count": 1,
   "id": "dc7bd230-9ffc-49de-8d7f-b8825afd2a34",
   "metadata": {
    "scrolled": true
   },
   "outputs": [
    {
     "name": "stdout",
     "output_type": "stream",
     "text": [
      "\u001b[93mTo sign in, use a web browser to open the page https://microsoft.com/devicelogin and enter the code IEYMZGBHW to authenticate.\u001b[0m\n",
      "\u001b[93mThe following tenants require Multi-Factor Authentication (MFA). Use 'az login --tenant TENANT_ID' to explicitly login to a tenant.\u001b[0m\n",
      "\u001b[93m20e3511d-7f82-40ef-b1c5-68d140db222e 'Cloudedu Osaka'\u001b[0m\n",
      "\u001b[93m55e6a757-a6ea-4be3-97ba-4464c4d91896 '既定のディレクトリ'\u001b[0m\n",
      "[\n",
      "  {\n",
      "    \"cloudName\": \"AzureCloud\",\n",
      "    \"homeTenantId\": \"00bc734c-1046-44ff-bb99-f4b01806d062\",\n",
      "    \"id\": \"5abde0f8-480e-42a7-983d-f85f0dd87aa8\",\n",
      "    \"isDefault\": false,\n",
      "    \"managedByTenants\": [],\n",
      "    \"name\": \"Microsoft Azure Enterprise\",\n",
      "    \"state\": \"Enabled\",\n",
      "    \"tenantId\": \"00bc734c-1046-44ff-bb99-f4b01806d062\",\n",
      "    \"user\": {\n",
      "      \"name\": \"u416528d@ecs.osaka-u.ac.jp\",\n",
      "      \"type\": \"user\"\n",
      "    }\n",
      "  },\n",
      "  {\n",
      "    \"cloudName\": \"AzureCloud\",\n",
      "    \"homeTenantId\": \"00bc734c-1046-44ff-bb99-f4b01806d062\",\n",
      "    \"id\": \"a25ebad8-cf41-4969-ad5e-c9571a276106\",\n",
      "    \"isDefault\": true,\n",
      "    \"managedByTenants\": [],\n",
      "    \"name\": \"EDU-2022\",\n",
      "    \"state\": \"Enabled\",\n",
      "    \"tenantId\": \"00bc734c-1046-44ff-bb99-f4b01806d062\",\n",
      "    \"user\": {\n",
      "      \"name\": \"u416528d@ecs.osaka-u.ac.jp\",\n",
      "      \"type\": \"user\"\n",
      "    }\n",
      "  },\n",
      "  {\n",
      "    \"cloudName\": \"AzureCloud\",\n",
      "    \"homeTenantId\": \"885c7a52-09df-41e5-a3e1-a97f16c4e9dc\",\n",
      "    \"id\": \"ad976135-ea4a-4b4c-8761-329f4eaabc78\",\n",
      "    \"isDefault\": false,\n",
      "    \"managedByTenants\": [],\n",
      "    \"name\": \"by Prepay\",\n",
      "    \"state\": \"Enabled\",\n",
      "    \"tenantId\": \"885c7a52-09df-41e5-a3e1-a97f16c4e9dc\",\n",
      "    \"user\": {\n",
      "      \"name\": \"u416528d@ecs.osaka-u.ac.jp\",\n",
      "      \"type\": \"user\"\n",
      "    }\n",
      "  }\n",
      "]\n"
     ]
    }
   ],
   "source": [
    "!az login --use-device-code"
   ]
  },
  {
   "cell_type": "markdown",
   "id": "94a9d058-80e2-42da-80b7-d66eb10a1921",
   "metadata": {},
   "source": [
    "```{note}\n",
    "もし、サブスクリプションが`EDU-2022`以外の場合は、\n",
    "次のコマンドで設定を変更します。\n",
    "``````"
   ]
  },
  {
   "cell_type": "code",
   "execution_count": 5,
   "id": "5aefd062-af09-4e39-9352-25a3776bf2c2",
   "metadata": {},
   "outputs": [],
   "source": [
    "!az account set --subscription a25ebad8-cf41-4969-ad5e-c9571a276106"
   ]
  },
  {
   "cell_type": "markdown",
   "id": "c96bd909-9bdb-40b8-a339-485cd1f4dfef",
   "metadata": {},
   "source": [
    "```{note}\n",
    "認証に関連してシステムが混乱していると思われる場合は、Azure Portal\n",
    "([ホーム - Microsoft Azure](https://portal.azure.com/#home))\n",
    "の左肩をクリックするとログアウトして最初から認証をし直すことができます。\n",
    "JupyterHubの制限から、VIORASにはログアウト機能がありません。\n",
    "```"
   ]
  },
  {
   "cell_type": "markdown",
   "id": "e494ab4b-8ad5-4019-9d14-3e384072c88d",
   "metadata": {},
   "source": [
    "## リソースグループとストレージアカウント\n",
    "\n",
    "```{note}\n",
    "VIORASでは、サブスクリプション`EDU-2022`にリソースグループ`JupyterHub-RG`を作成して構築管理しています。\n",
    "VIORASでBlobストレージを利用する際は、\n",
    "管理者がストレージアカウントを作成し、申請者のアカウントに権限を委譲する必要があります。\n",
    "\n",
    "* リソースグループ: `JupyterHub-RG`\n",
    "  - ストレージアカウント: e.g. `ecsosaka416528d`\n",
    "{note}"
   ]
  },
  {
   "cell_type": "code",
   "execution_count": 78,
   "id": "6df9303a-0353-4c17-9f74-2c42d2d97e03",
   "metadata": {},
   "outputs": [
    {
     "data": {
      "text/markdown": [
       "Azureのリソースグループは、Azureリソースをまとめて管理するためのコンテナです。リソースグループは、リソースのライフサイクルを管理し、アクセス制御を提供し、課金を集約する役割を果たします。\n",
       "\n",
       "以下に、リソースグループの主な特性をいくつか挙げてみます：\n",
       "\n",
       "1. **一貫性のある管理**: リソースグループを使用すると、関連するリソースをまとめて一貫した方法で管理することが可能になります。これにより、設定、モニタリング、およびデプロイメントの一貫性が向上します。\n",
       "\n",
       "2. **ライフサイクル管理**: 一連のリソースが共通のライフサイクルを共有する場合（例えば、特定のアプリケーションの一部として一緒にデプロイされ、更新され、削除される場合）、それらを同じリソースグループに配置することが理にかなっています。これにより、一連のリソースを単一の操作で作成または削除することができます。\n",
       "\n",
       "3. **アクセス制御**: AzureのRole-Based Access Control (RBAC) を使用して、リソースグループレベルでのアクセスと権限を設定することができます。これにより、特定のユーザーまたはグループがリソースグループ内のリソースに対して何を行うことができるかを詳細に制御することが可能になります。\n",
       "\n",
       "4. **課金**:  Azureはリソースグループレベルでの使用状況とコストを追跡し、それに基づいて課金します。これにより、特定のプロジェクトや部門のコストを追跡しやすくなります。\n",
       "\n",
       "リソースグループはAzureリソースのロジカルなコンテナであるため、リソースグループ自体がリソースを消費するわけではありません。そのため、リソースグループを作成してもコストは発生せず、リソースグループ内に含まれる個々のリソースの使用によってのみコストが発生します。"
      ],
      "text/plain": [
       "<IPython.core.display.Markdown object>"
      ]
     },
     "execution_count": 78,
     "metadata": {
      "text/markdown": {
       "jupyter_ai": {
        "custom_chain_id": "vioras"
       }
      }
     },
     "output_type": "execute_result"
    }
   ],
   "source": [
    "%%ai vioras\n",
    "Azureのリソースグループについて"
   ]
  },
  {
   "cell_type": "code",
   "execution_count": 79,
   "id": "03ebfe5f-c279-4f2b-9663-255b14dbbb79",
   "metadata": {},
   "outputs": [
    {
     "data": {
      "text/markdown": [
       "Azureのストレージアカウントは、Azure Storageサービスでデータを保存するための一種のコンテナです。ストレージアカウントは、Azure Storageで提供される4つのデータサービス、すなわちBlobストレージ（オブジェクトストレージ）、File Storage（共有ファイルストレージ）、Queue Storage（メッセージキューイングサービス）、およびTable Storage（NoSQLデータベースサービス）を利用するための基盤を提供します。\n",
       "\n",
       "以下に、ストレージアカウントの主な特性をいくつか挙げてみます：\n",
       "\n",
       "1. **データアクセス**: ストレージアカウントは、保存されたデータへのアクセスを管理します。アクセスは、共有キー、Azure Active Directory (Azure AD)、または匿名公開を介して制御することができます。\n",
       "\n",
       "2. **パフォーマンス**: ストレージアカウントは、パフォーマンス要件に基づいて、「標準」（HDD）または「プレミアム」（SSD）のいずれかに設定することができます。プレミアムパフォーマンスは、IOが集中するワークロードに適しています。\n",
       "\n",
       "3. **アクセス層**: ストレージアカウントでは、「ホット」、「クール」、「アーカイブ」の3つのアクセス層を選択できます。これらは、データのアクセス頻度と保存期間に応じて選択します。\n",
       "\n",
       "4. **レプリケーション**: ストレージアカウントには、データ耐久性と可用性を確保するためのレプリケーションオプションがいくつかあります。これには、ローカル冗長ストレージ (LRS)、ゾーン冗長ストレージ (ZRS)、地理冗長ストレージ (GRS)、および読み取りアクセス可能な地理冗長ストレージ (RA-GRS) が含まれます。\n",
       "\n",
       "5. **セキュリティ**: ストレージアカウントでは、データ暗号化、ネットワークルール、およびアクセスポリシーを通じて、データのセキュリティを確保できます。\n",
       "\n",
       "これらの設定と機能を通じて、ストレージアカウントはAzure Storageサービスの利用を柔軟に管理するための重要な役割を果たします。"
      ],
      "text/plain": [
       "<IPython.core.display.Markdown object>"
      ]
     },
     "execution_count": 79,
     "metadata": {
      "text/markdown": {
       "jupyter_ai": {
        "custom_chain_id": "vioras"
       }
      }
     },
     "output_type": "execute_result"
    }
   ],
   "source": [
    "%%ai vioras\n",
    "Azureのストレージアカウントについて"
   ]
  },
  {
   "cell_type": "code",
   "execution_count": 31,
   "id": "21be3347-9021-4768-aa3f-fcb9f104b5ae",
   "metadata": {},
   "outputs": [
    {
     "name": "stdout",
     "output_type": "stream",
     "text": [
      "\u001b[36mCommand group 'az storage' is in preview and under development. Reference and support levels: https://aka.ms/CLI_refstatus\u001b[0m\n",
      "\"/subscriptions/a25ebad8-cf41-4969-ad5e-c9571a276106/resourceGroups/JupyterHub-RG/providers/Microsoft.Storage/storageAccounts/ecsosaka416528d\"\n"
     ]
    }
   ],
   "source": [
    "!az storage account show --resource-group \"JupyterHub-RG\" \\\n",
    "    --name \"ecsosaka416528d\" --query \"id\""
   ]
  },
  {
   "cell_type": "code",
   "execution_count": 32,
   "id": "ceec784b-17bb-41c1-8cf5-710abceff5ef",
   "metadata": {},
   "outputs": [
    {
     "name": "stdout",
     "output_type": "stream",
     "text": [
      "\u001b[36mCommand group 'az storage' is in preview and under development. Reference and support levels: https://aka.ms/CLI_refstatus\u001b[0m\n",
      "\"Cool\"\n"
     ]
    }
   ],
   "source": [
    "!az storage account show --resource-group \"JupyterHub-RG\" \\\n",
    "    --name \"ecsosaka416528d\" --query \"accessTier\""
   ]
  },
  {
   "cell_type": "code",
   "execution_count": 33,
   "id": "3e288091-0c3d-4f27-9dcd-2eca1d217470",
   "metadata": {},
   "outputs": [
    {
     "name": "stdout",
     "output_type": "stream",
     "text": [
      "\u001b[36mCommand group 'az storage' is in preview and under development. Reference and support levels: https://aka.ms/CLI_refstatus\u001b[0m\n",
      "true\n"
     ]
    }
   ],
   "source": [
    "!az storage account show --resource-group \"JupyterHub-RG\" \\\n",
    "    --name \"ecsosaka416528d\" --query \"allowBlobPublicAccess\""
   ]
  },
  {
   "cell_type": "code",
   "execution_count": 34,
   "id": "63b25dc7-d6a7-474f-a51e-2d8e343829ab",
   "metadata": {},
   "outputs": [
    {
     "name": "stdout",
     "output_type": "stream",
     "text": [
      "\u001b[36mCommand group 'az storage' is in preview and under development. Reference and support levels: https://aka.ms/CLI_refstatus\u001b[0m\n",
      "{\n",
      "  \"blob\": \"https://ecsosaka416528d.blob.core.windows.net/\",\n",
      "  \"dfs\": \"https://ecsosaka416528d.dfs.core.windows.net/\",\n",
      "  \"file\": \"https://ecsosaka416528d.file.core.windows.net/\",\n",
      "  \"internetEndpoints\": null,\n",
      "  \"microsoftEndpoints\": null,\n",
      "  \"queue\": \"https://ecsosaka416528d.queue.core.windows.net/\",\n",
      "  \"table\": \"https://ecsosaka416528d.table.core.windows.net/\",\n",
      "  \"web\": \"https://ecsosaka416528d.z11.web.core.windows.net/\"\n",
      "}\n"
     ]
    }
   ],
   "source": [
    "!az storage account show --resource-group \"JupyterHub-RG\" \\\n",
    "    --name \"ecsosaka416528d\" --query \"primaryEndpoints\""
   ]
  },
  {
   "cell_type": "code",
   "execution_count": 35,
   "id": "290e3ef8-3465-4ac4-9fea-259cb5587982",
   "metadata": {},
   "outputs": [
    {
     "name": "stdout",
     "output_type": "stream",
     "text": [
      "\u001b[36mCommand group 'az storage' is in preview and under development. Reference and support levels: https://aka.ms/CLI_refstatus\u001b[0m\n",
      "{\n",
      "  \"accessTier\": \"Cool\",\n",
      "  \"allowBlobPublicAccess\": true,\n",
      "  \"allowCrossTenantReplication\": false,\n",
      "  \"allowSharedKeyAccess\": true,\n",
      "  \"allowedCopyScope\": null,\n",
      "  \"azureFilesIdentityBasedAuthentication\": null,\n",
      "  \"blobRestoreStatus\": null,\n",
      "  \"creationTime\": \"2023-09-22T13:09:51.852952+00:00\",\n",
      "  \"customDomain\": null,\n",
      "  \"defaultToOAuthAuthentication\": false,\n",
      "  \"dnsEndpointType\": \"Standard\",\n",
      "  \"enableHttpsTrafficOnly\": true,\n",
      "  \"enableNfsV3\": null,\n",
      "  \"encryption\": {\n",
      "    \"encryptionIdentity\": null,\n",
      "    \"keySource\": \"Microsoft.Storage\",\n",
      "    \"keyVaultProperties\": null,\n",
      "    \"requireInfrastructureEncryption\": false,\n",
      "    \"services\": {\n",
      "      \"blob\": {\n",
      "        \"enabled\": true,\n",
      "        \"keyType\": \"Account\",\n",
      "        \"lastEnabledTime\": \"2023-09-22T13:09:51.931055+00:00\"\n",
      "      },\n",
      "      \"file\": {\n",
      "        \"enabled\": true,\n",
      "        \"keyType\": \"Account\",\n",
      "        \"lastEnabledTime\": \"2023-09-22T13:09:51.931055+00:00\"\n",
      "      },\n",
      "      \"queue\": null,\n",
      "      \"table\": null\n",
      "    }\n",
      "  },\n",
      "  \"extendedLocation\": null,\n",
      "  \"failoverInProgress\": null,\n",
      "  \"geoReplicationStats\": null,\n",
      "  \"id\": \"/subscriptions/a25ebad8-cf41-4969-ad5e-c9571a276106/resourceGroups/JupyterHub-RG/providers/Microsoft.Storage/storageAccounts/ecsosaka416528d\",\n",
      "  \"identity\": null,\n",
      "  \"immutableStorageWithVersioning\": null,\n",
      "  \"isHnsEnabled\": null,\n",
      "  \"isLocalUserEnabled\": null,\n",
      "  \"isSftpEnabled\": null,\n",
      "  \"keyCreationTime\": {\n",
      "    \"key1\": \"2023-09-22T13:09:51.931055+00:00\",\n",
      "    \"key2\": \"2023-09-22T13:09:51.931055+00:00\"\n",
      "  },\n",
      "  \"keyPolicy\": null,\n",
      "  \"kind\": \"StorageV2\",\n",
      "  \"largeFileSharesState\": null,\n",
      "  \"lastGeoFailoverTime\": null,\n",
      "  \"location\": \"japaneast\",\n",
      "  \"minimumTlsVersion\": \"TLS1_2\",\n",
      "  \"name\": \"ecsosaka416528d\",\n",
      "  \"networkRuleSet\": {\n",
      "    \"bypass\": \"AzureServices\",\n",
      "    \"defaultAction\": \"Allow\",\n",
      "    \"ipRules\": [],\n",
      "    \"resourceAccessRules\": null,\n",
      "    \"virtualNetworkRules\": []\n",
      "  },\n",
      "  \"primaryEndpoints\": {\n",
      "    \"blob\": \"https://ecsosaka416528d.blob.core.windows.net/\",\n",
      "    \"dfs\": \"https://ecsosaka416528d.dfs.core.windows.net/\",\n",
      "    \"file\": \"https://ecsosaka416528d.file.core.windows.net/\",\n",
      "    \"internetEndpoints\": null,\n",
      "    \"microsoftEndpoints\": null,\n",
      "    \"queue\": \"https://ecsosaka416528d.queue.core.windows.net/\",\n",
      "    \"table\": \"https://ecsosaka416528d.table.core.windows.net/\",\n",
      "    \"web\": \"https://ecsosaka416528d.z11.web.core.windows.net/\"\n",
      "  },\n",
      "  \"primaryLocation\": \"japaneast\",\n",
      "  \"privateEndpointConnections\": [],\n",
      "  \"provisioningState\": \"Succeeded\",\n",
      "  \"publicNetworkAccess\": \"Enabled\",\n",
      "  \"resourceGroup\": \"JupyterHub-RG\",\n",
      "  \"routingPreference\": null,\n",
      "  \"sasPolicy\": null,\n",
      "  \"secondaryEndpoints\": {\n",
      "    \"blob\": \"https://ecsosaka416528d-secondary.blob.core.windows.net/\",\n",
      "    \"dfs\": \"https://ecsosaka416528d-secondary.dfs.core.windows.net/\",\n",
      "    \"file\": null,\n",
      "    \"internetEndpoints\": null,\n",
      "    \"microsoftEndpoints\": null,\n",
      "    \"queue\": \"https://ecsosaka416528d-secondary.queue.core.windows.net/\",\n",
      "    \"table\": \"https://ecsosaka416528d-secondary.table.core.windows.net/\",\n",
      "    \"web\": \"https://ecsosaka416528d-secondary.z11.web.core.windows.net/\"\n",
      "  },\n",
      "  \"secondaryLocation\": \"japanwest\",\n",
      "  \"sku\": {\n",
      "    \"name\": \"Standard_RAGRS\",\n",
      "    \"tier\": \"Standard\"\n",
      "  },\n",
      "  \"statusOfPrimary\": \"available\",\n",
      "  \"statusOfSecondary\": \"available\",\n",
      "  \"storageAccountSkuConversionStatus\": null,\n",
      "  \"tags\": {},\n",
      "  \"type\": \"Microsoft.Storage/storageAccounts\"\n",
      "}\n"
     ]
    }
   ],
   "source": [
    "!az storage account show --resource-group \"JupyterHub-RG\" \\\n",
    "    --name \"ecsosaka416528d\""
   ]
  },
  {
   "cell_type": "markdown",
   "id": "bfcfe3a5-92df-47e0-a6f0-02defdb7a958",
   "metadata": {},
   "source": [
    "## スコープとロール\n",
    "\n",
    "```{niote}\n",
    "ロールは管理者が設定をするため、通常は意識する必要がありません。\n",
    "ただし、ストレージアカウントの操作に不具合がある場合に、\n",
    "適切なロールが割り当てられているかを確認する必要が生じる場合があります。\n",
    "```"
   ]
  },
  {
   "cell_type": "code",
   "execution_count": 82,
   "id": "dfbd64ed-24aa-4697-a99d-36693fa14aae",
   "metadata": {},
   "outputs": [
    {
     "data": {
      "text/markdown": [
       "Azureのロールは、AzureのRole-Based Access Control (RBAC) の一部で、特定のアクションを許可または拒否する権限を定義します。これにより、ユーザーやグループがAzureリソースに対してどのような操作を行うことができるかを定義し、制御することができます。\n",
       "\n",
       "Azureでは、ビルトインのロールとカスタムロールの2つのタイプのロールを提供しています：\n",
       "\n",
       "1. **ビルトインのロール**: これらはAzureによって事前に定義された一連のアクセス許可で、一般的なユースケースをカバーします。例えば、「Contributor」、「Reader」、「Owner」などがあります。\n",
       "\n",
       "2. **カスタムロール**: これらは、特定のニーズに合わせてユーザーが作成するロールです。これにより、特定のリソースに対する非常に特定のアクションを許可または拒否することが可能になります。\n",
       "\n",
       "ロールは、特定のスコープ（管理グループ、サブスクリプション、リソースグループ、またはリソース）に割り当てることができます。ロール割り当ては、誰が（ユーザー、グループ、またはサービスプリンシパル）どのロールを持ち、どのスコープでそのロールを持つかを定義します。\n",
       "\n",
       "これにより、Azure RBACは、Azureリソースへのアクセスを詳細に制御し、最小権限の原則に基づいてアクセス権を付与することを可能にします。"
      ],
      "text/plain": [
       "<IPython.core.display.Markdown object>"
      ]
     },
     "execution_count": 82,
     "metadata": {
      "text/markdown": {
       "jupyter_ai": {
        "custom_chain_id": "vioras"
       }
      }
     },
     "output_type": "execute_result"
    }
   ],
   "source": [
    "%%ai vioras\n",
    "Azureのロールについて"
   ]
  },
  {
   "cell_type": "code",
   "execution_count": 31,
   "id": "c75e8086-dc93-4e67-b512-0e64791d9114",
   "metadata": {},
   "outputs": [
    {
     "name": "stdout",
     "output_type": "stream",
     "text": [
      "\u001b[36mCommand group 'az storage' is in preview and under development. Reference and support levels: https://aka.ms/CLI_refstatus\u001b[0m\n",
      "\"/subscriptions/a25ebad8-cf41-4969-ad5e-c9571a276106/resourceGroups/JupyterHub-RG/providers/Microsoft.Storage/storageAccounts/ecsosaka416528d\"\n"
     ]
    }
   ],
   "source": [
    "!az storage account show --resource-group \"JupyterHub-RG\" \\\n",
    "    --name \"ecsosaka416528d\" --query \"id\""
   ]
  },
  {
   "cell_type": "code",
   "execution_count": 116,
   "id": "2ff9befd-18bd-4302-9e0b-0d2516147d84",
   "metadata": {},
   "outputs": [
    {
     "name": "stdout",
     "output_type": "stream",
     "text": [
      "Storage Blob Data Contributor\tAllows for read, write and delete access to Azure Storage blob containers and data\n",
      "Storage Blob Data Owner\tAllows for full access to Azure Storage blob containers and data, including assigning POSIX access control.\n",
      "Storage Blob Data Reader\tAllows for read access to Azure Storage blob containers and data\n",
      "Storage Blob Delegator\tAllows for generation of a user delegation key which can be used to sign SAS tokens\n"
     ]
    }
   ],
   "source": [
    "!az role definition list \\\n",
    "    --scope \"/subscriptions/a25ebad8-cf41-4969-ad5e-c9571a276106/resourceGroups/JupyterHub-RG/providers/Microsoft.Storage/storageAccounts/ecsosaka416528d\" \\\n",
    "    --query \"[?contains(roleName,'Storage Blob')].[roleName, description]\" -o tsv"
   ]
  },
  {
   "cell_type": "code",
   "execution_count": 121,
   "id": "755d4f55-9ca0-4d93-b234-69f802c02460",
   "metadata": {},
   "outputs": [
    {
     "name": "stdout",
     "output_type": "stream",
     "text": [
      "u416528d@ecs.osaka-u.ac.jp\tStorage Blob Data Contributor\n"
     ]
    }
   ],
   "source": [
    "!az role assignment list \\\n",
    "    --scope \"/subscriptions/a25ebad8-cf41-4969-ad5e-c9571a276106/resourceGroups/JupyterHub-RG/providers/Microsoft.Storage/storageAccounts/ecsosaka416528d\" \\\n",
    "    --query \"[*].{user:principalName,role:roleDefinitionName}\" -o tsv"
   ]
  },
  {
   "cell_type": "markdown",
   "id": "cc3cac34-a321-4e49-8dc7-44093c623778",
   "metadata": {},
   "source": [
    "## コンテナとBlob\n",
    "\n",
    "```{note}\n",
    "ストレージアカウントに権限が割り当てられると、\n",
    "コンテナを作成することができるようになります。\n",
    "コンテナはBlobを格納することができます。\n",
    "VIORASでは、Blobは階層型ファイルシステムと同等のディレクトリ構造を持つことができ、\n",
    "GUI (Azure Storage Explorer) や CUI (AzCopy) を使うと、\n",
    "ローカルファイルシステムをそのまま同期することができます。\n",
    "\n",
    "* コンテナ: e.g. `textbook-2023`\n",
    "```"
   ]
  },
  {
   "cell_type": "code",
   "execution_count": 80,
   "id": "cea1c68b-99e1-428b-b27f-0182dcddc6f4",
   "metadata": {},
   "outputs": [
    {
     "data": {
      "text/markdown": [
       "Azure Blob Storageは、大量の非構造化データを保存するためのオブジェクトストレージソリューションです。非構造化データとは、テキストやバイナリデータなどのメディアファイル、文書、バックアップデータ、ログファイルなどを指します。\n",
       "\n",
       "**Blob (Binary Large OBjects)**\n",
       "\n",
       "Blobは、大量のテキストまたはバイナリデータ（画像、音声、ビデオなど）を保存できます。Blobは、Azure Storageに保存されるデータの最小単位です。Blobには3つのタイプがあります：\n",
       "\n",
       "1. **Block Blobs**: テキストやバイナリデータの保存に最適で、最大約4.75TBのデータを保存できます。\n",
       "\n",
       "2. **Append Blobs**: 主にログデータのような追加専用のパターンに対応しています。\n",
       "\n",
       "3. **Page Blobs**: 頻繁にランダムにアクセスする必要がある大量のデータ（例えば、仮想ハードドライブなど）に適しています。\n",
       "\n",
       "**コンテナ**\n",
       "\n",
       "コンテナは、Blobのグループを保持するための「フォルダ」のようなものです。コンテナは、ストレージアカウント内でBlobsを整理するために使用されます。一つのストレージアカウント内には何百万ものコンテナを作成することができ、一つのコンテナ内には何百万ものBlobを保存できます。\n",
       "\n",
       "各コンテナとBlobは、一意の名前を持ち、これによりそれぞれのURLが生成されます。これにより、アプリケーションは特定のBlobに直接アクセスできます。\n",
       "\n",
       "Blob Storageは、大量の非構造化データを保存し、世界中のどこからでもアクセス可能にするための非常に効果的なソリューションです。また、ストリーミングビデオと音声、バックアップ、ロギング、アーカイブなどの用途にも広く使用されています。"
      ],
      "text/plain": [
       "<IPython.core.display.Markdown object>"
      ]
     },
     "execution_count": 80,
     "metadata": {
      "text/markdown": {
       "jupyter_ai": {
        "custom_chain_id": "vioras"
       }
      }
     },
     "output_type": "execute_result"
    }
   ],
   "source": [
    "%%ai vioras\n",
    "AzureストレージのコンテナとBlobについて"
   ]
  },
  {
   "cell_type": "code",
   "execution_count": 42,
   "id": "730400e2-b4aa-440b-bfe4-8f53749e885b",
   "metadata": {},
   "outputs": [
    {
     "name": "stdout",
     "output_type": "stream",
     "text": [
      "\u001b[36mCommand group 'az storage' is in preview and under development. Reference and support levels: https://aka.ms/CLI_refstatus\u001b[0m\n",
      "textbook-2023\n"
     ]
    }
   ],
   "source": [
    "!az storage container list --account-name \"ecsosaka416528d\" \\\n",
    "    --query \"[*].[name]\" -o tsv --auth-mode login"
   ]
  },
  {
   "cell_type": "code",
   "execution_count": 1,
   "id": "51e06227-1c13-4bfd-bf9b-003cbfc0a778",
   "metadata": {},
   "outputs": [
    {
     "name": "stdout",
     "output_type": "stream",
     "text": [
      "\u001b[36mCommand group 'az storage' is in preview and under development. Reference and support levels: https://aka.ms/CLI_refstatus\u001b[0m\n",
      "[\n",
      "  {\n",
      "    \"deleted\": null,\n",
      "    \"encryptionScope\": {\n",
      "      \"defaultEncryptionScope\": \"$account-encryption-key\",\n",
      "      \"preventEncryptionScopeOverride\": false\n",
      "    },\n",
      "    \"immutableStorageWithVersioningEnabled\": false,\n",
      "    \"metadata\": null,\n",
      "    \"name\": \"textbook-2023\",\n",
      "    \"properties\": {\n",
      "      \"etag\": \"\\\"0x8DBBBEFA2B33100\\\"\",\n",
      "      \"hasImmutabilityPolicy\": false,\n",
      "      \"hasLegalHold\": false,\n",
      "      \"lastModified\": \"2023-09-23T04:43:30+00:00\",\n",
      "      \"lease\": {\n",
      "        \"duration\": null,\n",
      "        \"state\": \"available\",\n",
      "        \"status\": \"unlocked\"\n",
      "      },\n",
      "      \"publicAccess\": null\n",
      "    },\n",
      "    \"version\": null\n",
      "  }\n",
      "]\n"
     ]
    }
   ],
   "source": [
    "!az storage container list --account-name \"ecsosaka416528d\" \\\n",
    "    --auth-mode login"
   ]
  },
  {
   "cell_type": "code",
   "execution_count": 38,
   "id": "37b2e524-c451-4e2a-8d23-a351f100e4f7",
   "metadata": {},
   "outputs": [
    {
     "name": "stdout",
     "output_type": "stream",
     "text": [
      "\u001b[36mCommand group 'az storage' is in preview and under development. Reference and support levels: https://aka.ms/CLI_refstatus\u001b[0m\n",
      "chapters/.ipynb_checkpoints/1200-intro-checkpoint.ipynb\n",
      "chapters/.ipynb_checkpoints/1210-kepler_1-checkpoint.ipynb\n",
      "chapters/.ipynb_checkpoints/1220-kepler_2-checkpoint.ipynb\n",
      "chapters/.ipynb_checkpoints/1230-cycloid-checkpoint.ipynb\n",
      "chapters/.ipynb_checkpoints/1290-assignment-checkpoint.ipynb\n",
      "chapters/01/.ipynb_checkpoints/01_intro-checkpoint.ipynb\n",
      "chapters/01/.ipynb_checkpoints/02_openai-checkpoint.ipynb\n",
      "chapters/01/.ipynb_checkpoints/03_chatgpt-checkpoint.ipynb\n",
      "chapters/01/01_intro.ipynb\n",
      "chapters/01/02_openai.ipynb\n",
      "chapters/01/03_chatgpt.ipynb\n",
      "chapters/01/04_assignment.ipynb\n",
      "chapters/01/images/20230411.pptx\n",
      "chapters/01/images/fig-01.png\n",
      "chapters/01/images/fig-02.png\n",
      "chapters/01/images/fig-03.png\n",
      "chapters/01/images/fig-04.png\n",
      "chapters/01/images/fig-05.png\n",
      "chapters/01/images/fig-06.png\n",
      "chapters/01/images/fig-07.png\n",
      "chapters/01/images/fig-08.png\n",
      "chapters/01/images/fig-09.png\n",
      "chapters/01/images/fig-10.png\n",
      "chapters/01/images/fig-11.png\n",
      "chapters/01/images/fig-12.png\n",
      "chapters/01/images/fig-13.png\n",
      "chapters/01/images/fig-14.png\n",
      "chapters/01/images/fig-15.png\n",
      "chapters/01/intro_add.md\n",
      "chapters/01/intro_add_4.md\n",
      "chapters/01/intro_add_5.md\n",
      "chapters/01/intro_add_6.md\n",
      "chapters/02/01_orientation.ipynb\n",
      "chapters/02/02_assignment.ipynb\n",
      "chapters/02/03_examination.ipynb\n",
      "chapters/02/04_assignment.ipynb\n",
      "chapters/02/images/fig-2-01.png\n",
      "chapters/02/images/fig-2-02.png\n",
      "chapters/03/10_intro.ipynb\n",
      "chapters/03/20_assignment.ipynb\n",
      "chapters/03/21_similarities.ipynb\n",
      "chapters/03/22_dict.ipynb\n",
      "chapters/03/23_dict.ipynb\n",
      "chapters/03/40_positional.ipynb\n",
      "chapters/03/50_assignment.ipynb\n",
      "chapters/04/.ipynb_checkpoints/10_intro-checkpoint.ipynb\n",
      "chapters/04/.ipynb_checkpoints/20_pythagoras-checkpoint.ipynb\n",
      "chapters/04/.ipynb_checkpoints/22_dict-Copy1-checkpoint.ipynb\n",
      "chapters/04/.ipynb_checkpoints/23_dict-Copy1-checkpoint.ipynb\n",
      "chapters/04/.ipynb_checkpoints/40_egyptian_numerals-checkpoint.ipynb\n",
      "chapters/04/.ipynb_checkpoints/50_babylonican_numerals-checkpoint.ipynb\n",
      "chapters/04/.ipynb_checkpoints/90_assignment-checkpoint.ipynb\n",
      "chapters/04/10_intro.ipynb\n",
      "chapters/04/20_pythagoras.ipynb\n",
      "chapters/04/22_dict-Copy1.ipynb\n",
      "chapters/04/23_dict-Copy1.ipynb\n",
      "chapters/04/40_egyptian_numerals.ipynb\n",
      "chapters/04/50_babylonian_numerals.ipynb\n",
      "chapters/04/90_assignment.ipynb\n",
      "chapters/05/.ipynb_checkpoints/490_assignment-checkpoint.ipynb\n",
      "chapters/05/.ipynb_checkpoints/500_arche-checkpoint.ipynb\n",
      "chapters/05/.ipynb_checkpoints/510_octave-checkpoint.ipynb\n",
      "chapters/05/.ipynb_checkpoints/520_timbre-checkpoint.ipynb\n",
      "chapters/05/.ipynb_checkpoints/530_temperament-checkpoint.ipynb\n",
      "chapters/05/.ipynb_checkpoints/590_assignment-checkpoint.ipynb\n",
      "chapters/05/490_assignment.ipynb\n",
      "chapters/05/500_arche.ipynb\n",
      "chapters/05/510_octave.ipynb\n",
      "chapters/05/520_timbre.ipynb\n",
      "chapters/05/530_temperament.ipynb\n",
      "chapters/05/590_assignment.ipynb\n",
      "chapters/05/FMP_C1_F23_Flute.wav\n",
      "chapters/05/FMP_C1_F23_Piano.wav\n",
      "chapters/05/FMP_C1_F23_Trumpet.wav\n",
      "chapters/05/FMP_C1_F23_Violin.wav\n",
      "chapters/05/FMP_C1_Scale-Cmajor_Piano.mp3\n",
      "chapters/05/FMP_C1_Scale-Cmajor_Piano.wav\n",
      "chapters/06/.ipynb_checkpoints/590_assignment-Copy1-checkpoint.ipynb\n",
      "chapters/06/.ipynb_checkpoints/610_intro-checkpoint.ipynb\n",
      "chapters/06/.ipynb_checkpoints/620_timbre-checkpoint.ipynb\n",
      "chapters/06/.ipynb_checkpoints/650_optimization-checkpoint.ipynb\n",
      "chapters/06/.ipynb_checkpoints/660_combination-checkpoint.ipynb\n",
      "chapters/06/.ipynb_checkpoints/661_combination-checkpoint.ipynb\n",
      "chapters/06/.ipynb_checkpoints/662_combination-checkpoint.ipynb\n",
      "chapters/06/590_assignment-Copy1.ipynb\n",
      "chapters/06/610_intro.ipynb\n",
      "chapters/06/620_timbre.ipynb\n",
      "chapters/06/650_optimization.ipynb\n",
      "chapters/06/660_combination.ipynb\n",
      "chapters/06/661_combination.ipynb\n",
      "chapters/06/662_combination.ipynb\n",
      "chapters/07/.ipynb_checkpoints/662_combination-Copy1-checkpoint.ipynb\n",
      "chapters/07/.ipynb_checkpoints/701_plimpton322-checkpoint.ipynb\n",
      "chapters/07/.ipynb_checkpoints/702_plimpton322-checkpoint.ipynb\n",
      "chapters/07/.ipynb_checkpoints/710_intro-checkpoint.ipynb\n",
      "chapters/07/.ipynb_checkpoints/720_assignment-checkpoint.ipynb\n",
      "chapters/07/.ipynb_checkpoints/fig-2-checkpoint.jpeg\n",
      "chapters/07/662_combination-Copy1.ipynb\n",
      "chapters/07/701_plimpton322.ipynb\n",
      "chapters/07/702_plimpton322.ipynb\n",
      "chapters/07/710_intro.ipynb\n",
      "chapters/07/720_assignment.ipynb\n",
      "chapters/07/fig-2.jpeg\n",
      "chapters/07/fig-3.jpeg\n",
      "chapters/08/.ipynb_checkpoints/720_assignment-Copy1-checkpoint.ipynb\n",
      "chapters/08/.ipynb_checkpoints/721_assignment-checkpoint.ipynb\n",
      "chapters/08/.ipynb_checkpoints/800_assignment-checkpoint.ipynb\n",
      "chapters/08/.ipynb_checkpoints/801_ybc7289-checkpoint.ipynb\n",
      "chapters/08/.ipynb_checkpoints/802_ybc7289-checkpoint.ipynb\n",
      "chapters/08/.ipynb_checkpoints/810_intro-checkpoint.ipynb\n",
      "chapters/08/.ipynb_checkpoints/830_assignment-checkpoint.ipynb\n",
      "chapters/08/720_assignment-Copy1.ipynb\n",
      "chapters/08/721_assignment.ipynb\n",
      "chapters/08/800_assignment.ipynb\n",
      "chapters/08/801_ybc7289.ipynb\n",
      "chapters/08/802_ybc7289.ipynb\n",
      "chapters/08/810_intro.ipynb\n",
      "chapters/08/830_assignment.ipynb\n",
      "chapters/09/.ipynb_checkpoints/810_intro-Copy1-checkpoint.ipynb\n",
      "chapters/09/.ipynb_checkpoints/830_assignment-Copy1-checkpoint.ipynb\n",
      "chapters/09/.ipynb_checkpoints/902-checkpoint.ipynb\n",
      "chapters/09/810_intro-Copy1.ipynb\n",
      "chapters/09/830_assignment-Copy1.ipynb\n",
      "chapters/09/902.ipynb\n",
      "chapters/10/.ipynb_checkpoints/1090_assignment-checkpoint.ipynb\n",
      "chapters/10/1090_assignment.ipynb\n",
      "chapters/11/.ipynb_checkpoints/1091_assignment-checkpoint.ipynb\n",
      "chapters/11/.ipynb_checkpoints/1190_assignment-checkpoint.ipynb\n",
      "chapters/11/1091_assignment.ipynb\n",
      "chapters/11/1190_assignment.ipynb\n",
      "chapters/12/.ipynb_checkpoints/1200-intro-checkpoint.ipynb\n",
      "chapters/12/.ipynb_checkpoints/1210-kepler_1-checkpoint.ipynb\n",
      "chapters/12/.ipynb_checkpoints/1220-kepler_2-checkpoint.ipynb\n",
      "chapters/12/.ipynb_checkpoints/1230-cycloid-checkpoint.ipynb\n",
      "chapters/12/.ipynb_checkpoints/1290-assignment-checkpoint.ipynb\n",
      "chapters/12/1190_assignment.ipynb\n",
      "chapters/12/1200-intro.ipynb\n",
      "chapters/12/1210-kepler_1.ipynb\n",
      "chapters/12/1220-kepler_2.ipynb\n",
      "chapters/12/1230-cycloid.ipynb\n",
      "chapters/12/1290-assignment.ipynb\n",
      "chapters/13/.ipynb_checkpoints/1220-kepler_2-Copy1-checkpoint.ipynb\n",
      "chapters/13/.ipynb_checkpoints/1230-cycloid-Copy1-checkpoint.ipynb\n",
      "chapters/13/.ipynb_checkpoints/1290-assignment-Copy1-checkpoint.ipynb\n",
      "chapters/13/.ipynb_checkpoints/1360-dncl-checkpoint.ipynb\n",
      "chapters/13/.ipynb_checkpoints/1370-2008-checkpoint.ipynb\n",
      "chapters/13/1220-kepler_2-Copy1.ipynb\n",
      "chapters/13/1230-cycloid-Copy1.ipynb\n",
      "chapters/13/1290-assignment-Copy1.ipynb\n",
      "chapters/13/1360-dncl.ipynb\n",
      "chapters/13/1370-2008.ipynb\n",
      "chapters/13/fig-11.png\n",
      "chapters/13/fig-12.png\n",
      "chapters/13/fig-21.png\n",
      "chapters/13/fig-22.png\n",
      "chapters/13/fig-23.png\n",
      "chapters/13/fig-24.png\n",
      "chapters/13/fig-25.png\n",
      "chapters/13/fig-26.png\n",
      "chapters/14/.ipynb_checkpoints/1400-intro-checkpoint.ipynb\n",
      "chapters/14/.ipynb_checkpoints/1410-2010#1-checkpoint.ipynb\n",
      "chapters/14/.ipynb_checkpoints/1420-2010#2-checkpoint.ipynb\n",
      "chapters/14/.ipynb_checkpoints/1430-2010#2-checkpoint.ipynb\n",
      "chapters/14/.ipynb_checkpoints/1470-2010#3-checkpoint.ipynb\n",
      "chapters/14/1400-intro.ipynb\n",
      "chapters/14/1410-2010_1.ipynb\n",
      "chapters/14/1420-2010_2.ipynb\n",
      "chapters/14/1430-2010_2.ipynb\n",
      "chapters/14/1470-2010_3.ipynb\n",
      "chapters/14/fig-01.png\n",
      "chapters/14/fig-02.png\n",
      "chapters/14/fig-03.png\n",
      "chapters/14/fig-04.png\n",
      "chapters/14/fig-05.png\n",
      "chapters/14/fig-06.png\n",
      "chapters/15/.ipynb_checkpoints/1510-intro-checkpoint.ipynb\n",
      "chapters/15/.ipynb_checkpoints/1520-newton-checkpoint.ipynb\n",
      "chapters/15/.ipynb_checkpoints/1530-diffgeom-checkpoint.ipynb\n",
      "chapters/15/.ipynb_checkpoints/1540-curvature-checkpoint.ipynb\n",
      "chapters/15/.ipynb_checkpoints/1550-metric-checkpoint.ipynb\n",
      "chapters/15/.ipynb_checkpoints/1560-field_equation-checkpoint.ipynb\n",
      "chapters/15/.ipynb_checkpoints/1570-geodesic-checkpoint.ipynb\n",
      "chapters/15/1510-intro.ipynb\n",
      "chapters/15/1520-newton.ipynb\n",
      "chapters/15/1530-diffgeom.ipynb\n",
      "chapters/15/1540-curvature.ipynb\n",
      "chapters/15/1550-metric.ipynb\n",
      "chapters/15/1560-field_equation.ipynb\n",
      "chapters/15/1570-geodesic.ipynb\n",
      "chapters/intro.md\n"
     ]
    }
   ],
   "source": [
    "!az storage blob list --account-name \"ecsosaka416528d\" \\\n",
    "    --container-name \"textbook-2023\" --query \"[*].[name]\" -o tsv \\\n",
    "    --auth-mode login"
   ]
  },
  {
   "cell_type": "code",
   "execution_count": null,
   "id": "d29ea6b4-e2dc-423c-8e58-3f8660981921",
   "metadata": {},
   "outputs": [],
   "source": []
  }
 ],
 "metadata": {
  "kernelspec": {
   "display_name": "Python 3 (ipykernel)",
   "language": "python",
   "name": "python3"
  },
  "language_info": {
   "codemirror_mode": {
    "name": "ipython",
    "version": 3
   },
   "file_extension": ".py",
   "mimetype": "text/x-python",
   "name": "python",
   "nbconvert_exporter": "python",
   "pygments_lexer": "ipython3",
   "version": "3.11.5"
  }
 },
 "nbformat": 4,
 "nbformat_minor": 5
}
