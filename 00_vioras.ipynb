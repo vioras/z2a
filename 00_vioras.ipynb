{
 "cells": [
  {
   "cell_type": "markdown",
   "id": "55251467-5218-4a23-bb0c-857fe5313703",
   "metadata": {},
   "source": [
    "# Azure Blob Storage"
   ]
  },
  {
   "cell_type": "markdown",
   "id": "14ab4916-c36b-40e3-badc-d7cda4e08333",
   "metadata": {},
   "source": [
    "* できること\n",
    "  1. 教材・資料の配備と配布\n",
    "      - 教材・資料の配備: ローカルマシンのファイル・システムとの同期\n",
    "      - 教材・資料の配付: JupyterHubのシングルユーザ・サーバとの同期\n",
    "  1. Python APIによるファイル操作\n",
    "* 使い方\n",
    "  1. GUI (Azure Portal, Azure Storage Explorer) ← 配備\n",
    "  1. CUI (Azure CUI, AzCopy) ← 配布\n",
    "  1. Python API ← 配布\n",
    "* 認証\n",
    "  1. OUMailアカウントによるOAuth2認証\n",
    "      -  ロールによる権限管理\n",
    "         - (管理者) Owner: Allows for full access to Azure Storage blob containers and data, including assigning POSIX access control.\n",
    "         - (教員) Contributor: Allows for read, write and delete access to Azure Storage blob containers and data\n",
    "         - (学生) Reader: Allows for read access to Azure Storage blob containers and data\n",
    "  1. 匿名アクセス (パブリックアクセス)"
   ]
  },
  {
   "cell_type": "markdown",
   "id": "5474d208-03db-403c-8161-32f1a51cc5af",
   "metadata": {},
   "source": [
    "## UI\n",
    "\n",
    "* Azure Portal\n",
    "  - [Home - Microsoft Azure](https://portal.azure.com/#home)\n",
    "* Azure Storage Explorer\n",
    "  - [GitHub - microsoft/AzureStorageExplorer: Easily manage the contents of your storage account with Azure Storage Explorer. Upload, download, and manage blobs, files, queues, tables, and Cosmos DB entities. Gain easy access to manage your virtual machine disks. Work with either Azure Resource Manager or classic storage accounts, plus manage and configure cross-origin resource sharing (CORS) rules.](https://github.com/microsoft/AzureStorageExplorer)\n",
    "* VS Code Extension\n",
    "  - [Azure Storage - Visual Studio Marketplace](https://marketplace.visualstudio.com/items?itemName=ms-azuretools.vscode-azurestorage)\n",
    "* Azure CLI\n",
    "  - AzCopy\n",
    "     - [GitHub - Azure/azure-storage-azcopy: The new Azure Storage data transfer utility - AzCopy v10](https://github.com/Azure/azure-storage-azcopy)\n",
    "     - [AzCopy v10 を使用して Azure Storage にデータをコピーまたは移動する | Microsoft Learn](https://learn.microsoft.com/ja-jp/azure/storage/common/storage-use-azcopy-v10)\n",
    "     - [Download blobs from Azure Blob Storage by using AzCopy v10 | Microsoft Learn](https://learn.microsoft.com/en-us/azure/storage/common/storage-use-azcopy-blobs-download)\n",
    "  - Azure CLI Storage Extension (preview)\n",
    "     - [GitHub - Azure/azure-cli-extensions: Public Repository for Extensions of Azure CLI.](https://github.com/Azure/azure-cli-extensions/tree/main)\n",
    "         - [azure-cli-extensions/src/storage-preview at main · Azure/azure-cli-extensions · GitHub](https://github.com/Azure/azure-cli-extensions/tree/main/src/storage-preview)"
   ]
  },
  {
   "cell_type": "markdown",
   "id": "f75072aa-0b75-43d5-ba62-7e626ce9bfda",
   "metadata": {},
   "source": [
    "## Authorized access, anonymous access\n",
    "\n",
    "* [Authorize access to blobs with AzCopy & Azure Active Directory | Microsoft Learn](https://learn.microsoft.com/en-us/azure/storage/common/storage-use-azcopy-authorize-azure-active-directory#authorize-without-a-secret-store)\n",
    "* [AzCopy と Azure Active Directory を使用して BLOB へのアクセスを承認する | Microsoft Learn](https://learn.microsoft.com/ja-jp/azure/storage/common/storage-use-azcopy-authorize-azure-active-directory)\n",
    "* [コンテナーと BLOB の匿名パブリック読み取りアクセスを構成する - Azure Storage | Microsoft Learn](https://learn.microsoft.com/ja-jp/azure/storage/blobs/anonymous-read-access-configure?tabs=portal)"
   ]
  },
  {
   "cell_type": "markdown",
   "id": "17ccd7ef-02c7-44c2-aefa-f66b944afae2",
   "metadata": {},
   "source": [
    "## Python API\n",
    "\n",
    "* [GitHub - Azure/azure-storage-python: Microsoft Azure Storage Library for Python](https://github.com/Azure/azure-storage-python)\n",
    "    - [azure-sdk-for-python/sdk/storage/azure-storage-blob at main · Azure/azure-sdk-for-python · GitHub](https://github.com/Azure/azure-sdk-for-python/tree/main/sdk/storage/azure-storage-blob)\n",
    "* [Quickstart: Azure Blob Storage client library for Python - Azure Storage | Microsoft Learn](https://learn.microsoft.com/en-us/azure/storage/blobs/storage-quickstart-blobs-python?tabs=managed-identity%2Croles-azure-cli%2Csign-in-azure-cli)"
   ]
  },
  {
   "cell_type": "markdown",
   "id": "d8f43c90-efdc-4f0a-86fc-241647c94aa8",
   "metadata": {},
   "source": [
    "## Azure Portalで管理\n",
    "\n",
    "* ECSのAzureサブスクリプション (`EDU-2022`)\n",
    "  - ストレージアカウントの作成\n",
    "    - 申請者の阪大IDの冒頭の `u` を　`ecsosaka` に置換して作成\n",
    "      - e.g. `u416528d` → `ecsosaka416528d`\n",
    "      - role: \"Storage Blob Data Contributor\"\n",
    "      - 必要に応じて role: \"Storage Blob Data Reader\" を持つユーザを追加\n",
    "    - Configuration\n",
    "      - Performance: standard\n",
    "      - Blob access tier (default): Cool\n",
    "      - Allow Blob anonymous access: Enable"
   ]
  },
  {
   "cell_type": "markdown",
   "id": "e23971b3-eca6-4407-bb79-0b2a2c07d96a",
   "metadata": {},
   "source": [
    "## Azure Storage Explorerで操作\n",
    "\n",
    "- VS Codeの　“Azure Storage Extension” でも閲覧が可能 (操作に制約)\n",
    "  - [Azure Storage - Visual Studio Marketplace](https://marketplace.visualstudio.com/items?itemName=ms-azuretools.vscode-azurestorage)"
   ]
  },
  {
   "cell_type": "markdown",
   "id": "fe66fb67-e702-4c44-b2c5-a929bec09949",
   "metadata": {},
   "source": [
    "## Errata\n",
    "\n",
    "* [Auto-login not persisting token when AZCOPY_AUTO_LOGIN_TYPE=DEVICE · Issue #2361 · Azure/azure-storage-azcopy · GitHub](https://github.com/Azure/azure-storage-azcopy/issues/2361)"
   ]
  },
  {
   "cell_type": "code",
   "execution_count": null,
   "id": "03e9132d-1dae-45dd-ad12-604c1438e6b6",
   "metadata": {},
   "outputs": [],
   "source": []
  }
 ],
 "metadata": {
  "kernelspec": {
   "display_name": "Python 3 (ipykernel)",
   "language": "python",
   "name": "python3"
  },
  "language_info": {
   "codemirror_mode": {
    "name": "ipython",
    "version": 3
   },
   "file_extension": ".py",
   "mimetype": "text/x-python",
   "name": "python",
   "nbconvert_exporter": "python",
   "pygments_lexer": "ipython3",
   "version": "3.11.5"
  }
 },
 "nbformat": 4,
 "nbformat_minor": 5
}
